{
 "cells": [
  {
   "cell_type": "code",
   "execution_count": null,
   "metadata": {},
   "outputs": [],
   "source": []
  },
  {
   "cell_type": "markdown",
   "metadata": {},
   "source": [
    "<h4>.1-\tDetermine se os dados são qualitativos ou quantitativos. Explique seu raciocínio.</h4>.\t\n",
    "(a)\tAlturas de balões de ar quente; quantitativo pois as medidas podem ser medidas em quantidade de km ou metros.\n",
    "(b)\tCapacidades de carga de caminhonetes; quantitativo pois as medidas podem ser multiplicadas em quantidade litros ou área em metros cúbicos \n",
    "(c)\tCores dos olhos de modelos; qualitativos pois são umas variáveis nominais que não podem ser medidas quantitativa.\n",
    "(d) Números de identidade de estudantes; qualitativo pois é único e não dá para ser quantitativo.\n",
    "(d)\t(e) Respostas em uma pesquisa de opinião. quantitativo pois as medidas podem ser medidas em opiniões de um determinado assunto.\n",
    "\n",
    "<h4>2-\tNa tabela abaixo temos informações sobre o sexo, a matéria predileta (Português, Matemática, História, Geografia ou Ciências) no 2 o grau e a nota (número de questões certas) em um teste de múltipla escolha com 10 questões de matemática, ministrado no primeiro dia de aula dos calouros de Administração de uma universidade (dados fictícios).</h4>\n",
    "(a) Classifique as variáveis envolvidas\n",
    "sexo = qualitativa\n",
    "predileta = qualitativa\n",
    "nota = quantitativa\n",
    " (b) Construa a tabela de frequências apropriada para cada uma das variáveis qualitativas\n",
    "SEXO MASCULINO \t21\t50%\n",
    "SEXO FEMININO\t21\t50%\n",
    "TOTAL \t42\t100%\n",
    "\n",
    "<h4>3.\tConsidere os dados da tabela abaixo, referentes a um levantamento feito por professores da Universidade Federal de Santa Catarina (UFSC), onde o principal objetivo era avaliar os efeitos políticos dos programas de alimentação popular. Aqui temos dados referentes a 40 famílias resi- dentes no Conjunto Residencial Monte Verde, considerando as seguintes variáveis, classifique as variáveis envolvidas, explicando o porque de sua classificação:</h4>\n",
    "•\tPAP: variável indicadora de uso de programas de alimentação (1 = Sim; 0 = Não);\n",
    "•\tGI: grau de instrução do chefe da casa (1 = nenhum grau oficialmente completo; 2 = primeiro grau completo; 3 = segundo grau completo);\n",
    "•\tRES: número de pessoas residentes na casa;\n",
    "•\tRENDA: renda familiar mensal, em salários mínimos.\n",
    " \n",
    "\n",
    "\n",
    "\t(a) Classifique as variáveis envolvidas;\n",
    "     pap = qualitativa\n",
    "     gi =  qualitativa ordinal  \n",
    "     res= quantitativa discreta\n",
    "     renda =  quantitativa contínua.\n",
    "     (b) Construa a tabela de frequências apropriada para cada uma das variáveis qualitativas\n",
    "\n",
    "\n",
    "\n",
    "\n"
   ]
  },
  {
   "cell_type": "code",
   "execution_count": null,
   "metadata": {},
   "outputs": [],
   "source": [
    "import pandas as pd\n",
    "farmacia = pd.DataFrame({\"renda\":[10.3,15.4,9.6,5.5], \"farmacia\":[]})\n"
   ]
  }
 ],
 "metadata": {
  "language_info": {
   "name": "python"
  },
  "orig_nbformat": 4
 },
 "nbformat": 4,
 "nbformat_minor": 2
}
