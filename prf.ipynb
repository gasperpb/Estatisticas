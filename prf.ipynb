{
 "cells": [
  {
   "cell_type": "code",
   "execution_count": 1,
   "metadata": {},
   "outputs": [],
   "source": [
    "import pandas as pd\n",
    "import numpy as np    "
   ]
  },
  {
   "cell_type": "code",
   "execution_count": 8,
   "metadata": {},
   "outputs": [
    {
     "name": "stderr",
     "output_type": "stream",
     "text": [
      "C:\\Users\\ACHILL~1\\AppData\\Local\\Temp/ipykernel_16088/4142890854.py:7: FutureWarning: Dropping of nuisance columns in DataFrame reductions (with 'numeric_only=None') is deprecated; in a future version this will raise TypeError.  Select only valid columns before calling the reduction.\n",
      "  Ano_2020.sum(axis=1)\n"
     ]
    },
    {
     "data": {
      "text/plain": [
       "0         58752.0\n",
       "1         58794.0\n",
       "2         66422.0\n",
       "3         66757.0\n",
       "4         66174.0\n",
       "           ...   \n",
       "483754    68353.0\n",
       "483755    68354.0\n",
       "483756    52524.0\n",
       "483757    67273.0\n",
       "483758    68434.0\n",
       "Length: 483759, dtype: float64"
      ]
     },
     "execution_count": 8,
     "metadata": {},
     "output_type": "execute_result"
    }
   ],
   "source": [
    "Infracoes_PRF = pd.read_csv('infracoes_2020_01.csv',\n",
    "                            encoding='latin1',\n",
    "                            sep=';',\n",
    "                            low_memory=False)\n",
    "\n",
    "Ano_2020 = Infracoes_PRF\n",
    "Ano_2020.sum(axis=1)\n",
    "\n"
   ]
  }
 ],
 "metadata": {
  "interpreter": {
   "hash": "c1913ac3f18003deab744c7d21a3ec7dac4273d87c0a7e86d25d60d3994e848c"
  },
  "kernelspec": {
   "display_name": "Python 3.9.6 64-bit",
   "language": "python",
   "name": "python3"
  },
  "language_info": {
   "codemirror_mode": {
    "name": "ipython",
    "version": 3
   },
   "file_extension": ".py",
   "mimetype": "text/x-python",
   "name": "python",
   "nbconvert_exporter": "python",
   "pygments_lexer": "ipython3",
   "version": "3.9.6"
  },
  "orig_nbformat": 4
 },
 "nbformat": 4,
 "nbformat_minor": 2
}
